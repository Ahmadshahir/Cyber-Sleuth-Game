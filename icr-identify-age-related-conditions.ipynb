{
 "cells": [
  {
   "cell_type": "code",
   "execution_count": 1,
   "id": "de9fa0d0",
   "metadata": {
    "execution": {
     "iopub.execute_input": "2023-05-23T17:40:06.746744Z",
     "iopub.status.busy": "2023-05-23T17:40:06.745879Z",
     "iopub.status.idle": "2023-05-23T17:40:08.799935Z",
     "shell.execute_reply": "2023-05-23T17:40:08.798889Z"
    },
    "papermill": {
     "duration": 2.062153,
     "end_time": "2023-05-23T17:40:08.802899",
     "exception": false,
     "start_time": "2023-05-23T17:40:06.740746",
     "status": "completed"
    },
    "tags": []
   },
   "outputs": [
    {
     "name": "stderr",
     "output_type": "stream",
     "text": [
      "/opt/conda/lib/python3.10/site-packages/scipy/__init__.py:146: UserWarning: A NumPy version >=1.16.5 and <1.23.0 is required for this version of SciPy (detected version 1.23.5\n",
      "  warnings.warn(f\"A NumPy version >={np_minversion} and <{np_maxversion}\"\n"
     ]
    }
   ],
   "source": [
    "import pandas as pd\n",
    "from sklearn.model_selection import train_test_split\n",
    "from sklearn.ensemble import RandomForestClassifier\n",
    "from sklearn.metrics import log_loss\n",
    "\n",
    "# Load the training data\n",
    "train_data = pd.read_csv('../input/icr-identify-age-related-conditions/train.csv')"
   ]
  },
  {
   "cell_type": "code",
   "execution_count": 2,
   "id": "e7d558e8",
   "metadata": {
    "_kg_hide-input": false,
    "_kg_hide-output": false,
    "execution": {
     "iopub.execute_input": "2023-05-23T17:40:08.811408Z",
     "iopub.status.busy": "2023-05-23T17:40:08.810167Z",
     "iopub.status.idle": "2023-05-23T17:40:08.866088Z",
     "shell.execute_reply": "2023-05-23T17:40:08.864760Z"
    },
    "papermill": {
     "duration": 0.063506,
     "end_time": "2023-05-23T17:40:08.869623",
     "exception": false,
     "start_time": "2023-05-23T17:40:08.806117",
     "status": "completed"
    },
    "tags": []
   },
   "outputs": [
    {
     "name": "stderr",
     "output_type": "stream",
     "text": [
      "/tmp/ipykernel_20/2083705546.py:2: FutureWarning: The default value of numeric_only in DataFrame.median is deprecated. In a future version, it will default to False. In addition, specifying 'numeric_only=None' is deprecated. Select only valid columns or specify the value of numeric_only to silence this warning.\n",
      "  train_data_filled = train_data.fillna(train_data.median())\n"
     ]
    }
   ],
   "source": [
    "# Fill missing values with the median of the respective columns\n",
    "train_data_filled = train_data.fillna(train_data.median())\n",
    "\n",
    "# Perform binary encoding on the 'EJ' column\n",
    "train_data_filled['EJ'] = train_data_filled['EJ'].map({'A': 0, 'B': 1})\n",
    "\n",
    "# Separate features and target\n",
    "X = train_data_filled.drop(['Id', 'Class'], axis=1)\n",
    "y = train_data_filled['Class']\n",
    "\n",
    "# Split the data into training and validation sets\n",
    "X_train, X_val, y_train, y_val = train_test_split(X, y, test_size=0.2, random_state=42)\n"
   ]
  },
  {
   "cell_type": "code",
   "execution_count": 3,
   "id": "58937ea3",
   "metadata": {
    "execution": {
     "iopub.execute_input": "2023-05-23T17:40:08.877402Z",
     "iopub.status.busy": "2023-05-23T17:40:08.877019Z",
     "iopub.status.idle": "2023-05-23T17:40:09.314232Z",
     "shell.execute_reply": "2023-05-23T17:40:09.313111Z"
    },
    "papermill": {
     "duration": 0.444293,
     "end_time": "2023-05-23T17:40:09.316907",
     "exception": false,
     "start_time": "2023-05-23T17:40:08.872614",
     "status": "completed"
    },
    "tags": []
   },
   "outputs": [
    {
     "data": {
      "text/plain": [
       "0.24256795133352532"
      ]
     },
     "execution_count": 3,
     "metadata": {},
     "output_type": "execute_result"
    }
   ],
   "source": [
    "# Initialize the model\n",
    "model = RandomForestClassifier(n_estimators=100, random_state=42)\n",
    "\n",
    "# Train the model\n",
    "model.fit(X_train, y_train)\n",
    "\n",
    "# Make predictions on the validation set\n",
    "val_predictions = model.predict_proba(X_val)[:, 1]\n",
    "\n",
    "# Calculate the ROC AUC score\n",
    "log_loss(y_val, val_predictions)"
   ]
  },
  {
   "cell_type": "code",
   "execution_count": 4,
   "id": "c66de840",
   "metadata": {
    "execution": {
     "iopub.execute_input": "2023-05-23T17:40:09.324944Z",
     "iopub.status.busy": "2023-05-23T17:40:09.324564Z",
     "iopub.status.idle": "2023-05-23T17:40:09.367326Z",
     "shell.execute_reply": "2023-05-23T17:40:09.365704Z"
    },
    "papermill": {
     "duration": 0.050118,
     "end_time": "2023-05-23T17:40:09.370252",
     "exception": false,
     "start_time": "2023-05-23T17:40:09.320134",
     "status": "completed"
    },
    "tags": []
   },
   "outputs": [
    {
     "name": "stderr",
     "output_type": "stream",
     "text": [
      "/tmp/ipykernel_20/232044296.py:5: FutureWarning: The default value of numeric_only in DataFrame.median is deprecated. In a future version, it will default to False. In addition, specifying 'numeric_only=None' is deprecated. Select only valid columns or specify the value of numeric_only to silence this warning.\n",
      "  test_data_filled = test_data.fillna(train_data.median())\n"
     ]
    }
   ],
   "source": [
    "# Load the test data\n",
    "test_data = pd.read_csv('../input/icr-identify-age-related-conditions/test.csv')\n",
    "\n",
    "# Fill missing values in the test data with the median of the respective columns\n",
    "test_data_filled = test_data.fillna(train_data.median())\n",
    "\n",
    "# Perform binary encoding on the 'EJ' column\n",
    "test_data_filled['EJ'] = test_data_filled['EJ'].map({'A': 0, 'B': 1})\n",
    "\n",
    "# Separate the ID column\n",
    "test_ids = test_data_filled['Id']\n",
    "test_features = test_data_filled.drop('Id', axis=1)"
   ]
  },
  {
   "cell_type": "code",
   "execution_count": 5,
   "id": "de79aee0",
   "metadata": {
    "execution": {
     "iopub.execute_input": "2023-05-23T17:40:09.379147Z",
     "iopub.status.busy": "2023-05-23T17:40:09.378043Z",
     "iopub.status.idle": "2023-05-23T17:40:09.407731Z",
     "shell.execute_reply": "2023-05-23T17:40:09.406671Z"
    },
    "papermill": {
     "duration": 0.036899,
     "end_time": "2023-05-23T17:40:09.410500",
     "exception": false,
     "start_time": "2023-05-23T17:40:09.373601",
     "status": "completed"
    },
    "tags": []
   },
   "outputs": [],
   "source": [
    "# Make predictions on the test data\n",
    "test_predictions = model.predict_proba(test_features)[:, 1]\n",
    "test_ids = test_ids.astype(str)\n",
    "\n",
    "# Create a DataFrame with the IDs and predicted probabilities\n",
    "submission_df = pd.DataFrame({'Id': test_ids, 'Class': test_predictions})\n",
    "\n",
    "# Write the DataFrame to a CSV file\n",
    "submission_df.to_csv('submission.csv', index=False)"
   ]
  }
 ],
 "metadata": {
  "kernelspec": {
   "display_name": "Python 3",
   "language": "python",
   "name": "python3"
  },
  "language_info": {
   "codemirror_mode": {
    "name": "ipython",
    "version": 3
   },
   "file_extension": ".py",
   "mimetype": "text/x-python",
   "name": "python",
   "nbconvert_exporter": "python",
   "pygments_lexer": "ipython3",
   "version": "3.10.10"
  },
  "papermill": {
   "default_parameters": {},
   "duration": 16.849903,
   "end_time": "2023-05-23T17:40:10.436772",
   "environment_variables": {},
   "exception": null,
   "input_path": "__notebook__.ipynb",
   "output_path": "__notebook__.ipynb",
   "parameters": {},
   "start_time": "2023-05-23T17:39:53.586869",
   "version": "2.4.0"
  }
 },
 "nbformat": 4,
 "nbformat_minor": 5
}
