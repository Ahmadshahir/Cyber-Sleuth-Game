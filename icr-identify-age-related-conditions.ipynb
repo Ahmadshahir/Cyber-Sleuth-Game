{
 "cells": [
  {
   "cell_type": "code",
   "execution_count": 1,
   "id": "836bd0ef",
   "metadata": {
    "execution": {
     "iopub.execute_input": "2023-05-23T17:31:39.179092Z",
     "iopub.status.busy": "2023-05-23T17:31:39.178592Z",
     "iopub.status.idle": "2023-05-23T17:31:41.028154Z",
     "shell.execute_reply": "2023-05-23T17:31:41.026812Z"
    },
    "papermill": {
     "duration": 1.859155,
     "end_time": "2023-05-23T17:31:41.031493",
     "exception": false,
     "start_time": "2023-05-23T17:31:39.172338",
     "status": "completed"
    },
    "tags": []
   },
   "outputs": [
    {
     "name": "stderr",
     "output_type": "stream",
     "text": [
      "/opt/conda/lib/python3.10/site-packages/scipy/__init__.py:146: UserWarning: A NumPy version >=1.16.5 and <1.23.0 is required for this version of SciPy (detected version 1.23.5\n",
      "  warnings.warn(f\"A NumPy version >={np_minversion} and <{np_maxversion}\"\n"
     ]
    }
   ],
   "source": [
    "import pandas as pd\n",
    "from sklearn.model_selection import train_test_split\n",
    "from sklearn.ensemble import RandomForestClassifier\n",
    "from sklearn.metrics import roc_auc_score\n",
    "\n",
    "# Load the training data\n",
    "train_data = pd.read_csv('../input/icr-identify-age-related-conditions/train.csv')"
   ]
  },
  {
   "cell_type": "code",
   "execution_count": 2,
   "id": "1c793594",
   "metadata": {
    "_kg_hide-input": false,
    "_kg_hide-output": false,
    "execution": {
     "iopub.execute_input": "2023-05-23T17:31:41.039435Z",
     "iopub.status.busy": "2023-05-23T17:31:41.039035Z",
     "iopub.status.idle": "2023-05-23T17:31:41.096509Z",
     "shell.execute_reply": "2023-05-23T17:31:41.094092Z"
    },
    "papermill": {
     "duration": 0.064347,
     "end_time": "2023-05-23T17:31:41.099145",
     "exception": false,
     "start_time": "2023-05-23T17:31:41.034798",
     "status": "completed"
    },
    "tags": []
   },
   "outputs": [
    {
     "name": "stderr",
     "output_type": "stream",
     "text": [
      "/tmp/ipykernel_20/2083705546.py:2: FutureWarning: The default value of numeric_only in DataFrame.median is deprecated. In a future version, it will default to False. In addition, specifying 'numeric_only=None' is deprecated. Select only valid columns or specify the value of numeric_only to silence this warning.\n",
      "  train_data_filled = train_data.fillna(train_data.median())\n"
     ]
    }
   ],
   "source": [
    "# Fill missing values with the median of the respective columns\n",
    "train_data_filled = train_data.fillna(train_data.median())\n",
    "\n",
    "# Perform binary encoding on the 'EJ' column\n",
    "train_data_filled['EJ'] = train_data_filled['EJ'].map({'A': 0, 'B': 1})\n",
    "\n",
    "# Separate features and target\n",
    "X = train_data_filled.drop(['Id', 'Class'], axis=1)\n",
    "y = train_data_filled['Class']\n",
    "\n",
    "# Split the data into training and validation sets\n",
    "X_train, X_val, y_train, y_val = train_test_split(X, y, test_size=0.2, random_state=42)\n"
   ]
  },
  {
   "cell_type": "code",
   "execution_count": 3,
   "id": "2de08b14",
   "metadata": {
    "execution": {
     "iopub.execute_input": "2023-05-23T17:31:41.106877Z",
     "iopub.status.busy": "2023-05-23T17:31:41.106504Z",
     "iopub.status.idle": "2023-05-23T17:31:41.528715Z",
     "shell.execute_reply": "2023-05-23T17:31:41.527481Z"
    },
    "papermill": {
     "duration": 0.429108,
     "end_time": "2023-05-23T17:31:41.531380",
     "exception": false,
     "start_time": "2023-05-23T17:31:41.102272",
     "status": "completed"
    },
    "tags": []
   },
   "outputs": [
    {
     "data": {
      "text/plain": [
       "0.9674989238054239"
      ]
     },
     "execution_count": 3,
     "metadata": {},
     "output_type": "execute_result"
    }
   ],
   "source": [
    "# Initialize the model\n",
    "model = RandomForestClassifier(n_estimators=100, random_state=42)\n",
    "\n",
    "# Train the model\n",
    "model.fit(X_train, y_train)\n",
    "\n",
    "# Make predictions on the validation set\n",
    "val_predictions = model.predict_proba(X_val)[:, 1]\n",
    "\n",
    "# Calculate the ROC AUC score\n",
    "roc_auc_score(y_val, val_predictions)"
   ]
  },
  {
   "cell_type": "code",
   "execution_count": 4,
   "id": "0a136801",
   "metadata": {
    "execution": {
     "iopub.execute_input": "2023-05-23T17:31:41.539970Z",
     "iopub.status.busy": "2023-05-23T17:31:41.539573Z",
     "iopub.status.idle": "2023-05-23T17:31:41.581297Z",
     "shell.execute_reply": "2023-05-23T17:31:41.580085Z"
    },
    "papermill": {
     "duration": 0.049147,
     "end_time": "2023-05-23T17:31:41.584039",
     "exception": false,
     "start_time": "2023-05-23T17:31:41.534892",
     "status": "completed"
    },
    "tags": []
   },
   "outputs": [
    {
     "name": "stderr",
     "output_type": "stream",
     "text": [
      "/tmp/ipykernel_20/232044296.py:5: FutureWarning: The default value of numeric_only in DataFrame.median is deprecated. In a future version, it will default to False. In addition, specifying 'numeric_only=None' is deprecated. Select only valid columns or specify the value of numeric_only to silence this warning.\n",
      "  test_data_filled = test_data.fillna(train_data.median())\n"
     ]
    }
   ],
   "source": [
    "# Load the test data\n",
    "test_data = pd.read_csv('../input/icr-identify-age-related-conditions/test.csv')\n",
    "\n",
    "# Fill missing values in the test data with the median of the respective columns\n",
    "test_data_filled = test_data.fillna(train_data.median())\n",
    "\n",
    "# Perform binary encoding on the 'EJ' column\n",
    "test_data_filled['EJ'] = test_data_filled['EJ'].map({'A': 0, 'B': 1})\n",
    "\n",
    "# Separate the ID column\n",
    "test_ids = test_data_filled['Id']\n",
    "test_features = test_data_filled.drop('Id', axis=1)"
   ]
  },
  {
   "cell_type": "code",
   "execution_count": 5,
   "id": "6c3a1bf4",
   "metadata": {
    "execution": {
     "iopub.execute_input": "2023-05-23T17:31:41.592414Z",
     "iopub.status.busy": "2023-05-23T17:31:41.591993Z",
     "iopub.status.idle": "2023-05-23T17:31:41.623205Z",
     "shell.execute_reply": "2023-05-23T17:31:41.621934Z"
    },
    "papermill": {
     "duration": 0.038773,
     "end_time": "2023-05-23T17:31:41.626138",
     "exception": false,
     "start_time": "2023-05-23T17:31:41.587365",
     "status": "completed"
    },
    "tags": []
   },
   "outputs": [],
   "source": [
    "# Make predictions on the test data\n",
    "test_predictions = model.predict_proba(test_features)[:, 1]\n",
    "test_ids = test_ids.astype(str)\n",
    "\n",
    "# Create a DataFrame with the IDs and predicted probabilities\n",
    "submission_df = pd.DataFrame({'Id': test_ids, 'Class': test_predictions})\n",
    "\n",
    "# Write the DataFrame to a CSV file\n",
    "submission_df.to_csv('submission.csv', index=False)"
   ]
  },
  {
   "cell_type": "code",
   "execution_count": null,
   "id": "d9e131e4",
   "metadata": {
    "papermill": {
     "duration": 0.00308,
     "end_time": "2023-05-23T17:31:41.632847",
     "exception": false,
     "start_time": "2023-05-23T17:31:41.629767",
     "status": "completed"
    },
    "tags": []
   },
   "outputs": [],
   "source": []
  }
 ],
 "metadata": {
  "kernelspec": {
   "display_name": "Python 3",
   "language": "python",
   "name": "python3"
  },
  "language_info": {
   "codemirror_mode": {
    "name": "ipython",
    "version": 3
   },
   "file_extension": ".py",
   "mimetype": "text/x-python",
   "name": "python",
   "nbconvert_exporter": "python",
   "pygments_lexer": "ipython3",
   "version": "3.10.10"
  },
  "papermill": {
   "default_parameters": {},
   "duration": 17.702425,
   "end_time": "2023-05-23T17:31:44.981887",
   "environment_variables": {},
   "exception": null,
   "input_path": "__notebook__.ipynb",
   "output_path": "__notebook__.ipynb",
   "parameters": {},
   "start_time": "2023-05-23T17:31:27.279462",
   "version": "2.4.0"
  }
 },
 "nbformat": 4,
 "nbformat_minor": 5
}
